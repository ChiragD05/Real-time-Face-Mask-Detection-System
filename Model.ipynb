{
 "cells": [
  {
   "cell_type": "code",
   "execution_count": 1,
   "id": "6824186f-2a40-4519-9298-58df02d9843a",
   "metadata": {},
   "outputs": [],
   "source": [
    "import os\n",
    "import cv2\n",
    "import torch\n",
    "import torch.nn as nn\n",
    "import torch.optim as optim\n",
    "from torch.utils.data import Dataset, DataLoader\n",
    "from torchvision import transforms, models\n",
    "import matplotlib.pyplot as plt\n",
    "from PIL import Image\n"
   ]
  },
  {
   "cell_type": "code",
   "execution_count": 2,
   "id": "1c01611d-4b56-4052-9feb-87520872a821",
   "metadata": {},
   "outputs": [],
   "source": [
    "device = torch.device(\"cuda\" if torch.cuda.is_available() else \"cpu\")\n"
   ]
  },
  {
   "cell_type": "code",
   "execution_count": 3,
   "id": "6c785c18-7367-4f9c-b34b-2fff1dd32d55",
   "metadata": {},
   "outputs": [
    {
     "name": "stdout",
     "output_type": "stream",
     "text": [
      "Folder already exists. Skipping extraction.\n"
     ]
    }
   ],
   "source": [
    "import zipfile\n",
    "import os\n",
    "\n",
    "zip_file_path = \"mask_images_ready.zip\"\n",
    "destination_folder = \"FACE MASK DETECTION\"\n",
    "\n",
    "try:\n",
    "    # Check if the folder exists already\n",
    "    if not os.path.exists(destination_folder):\n",
    "        with zipfile.ZipFile(zip_file_path, 'r') as zip_ref:\n",
    "            zip_ref.extractall(destination_folder)\n",
    "        print(f\"Dataset extracted to: {destination_folder}\")\n",
    "    else:\n",
    "        print(\"Folder already exists. Skipping extraction.\")\n",
    "except Exception as e:\n",
    "    print(f\"An error occurred: {e}\")\n"
   ]
  },
  {
   "cell_type": "code",
   "execution_count": 4,
   "id": "1eac556a-3c65-489a-9f85-84f3e4416ed7",
   "metadata": {},
   "outputs": [],
   "source": [
    "# Dataset class\n",
    "class FaceMaskDataset(Dataset):\n",
    "    def __init__(self, image_paths, labels, transform=None):\n",
    "        self.image_paths = image_paths\n",
    "        self.labels = labels\n",
    "        self.transform = transform\n",
    "\n",
    "    def __len__(self):\n",
    "        return len(self.image_paths)\n",
    "\n",
    "    def __getitem__(self, idx):\n",
    "        image_path = self.image_paths[idx]\n",
    "        label = self.labels[idx]\n",
    "        image = cv2.imread(image_path)\n",
    "        image = cv2.cvtColor(image, cv2.COLOR_BGR2RGB)\n",
    "        image = cv2.resize(image, (224, 224))\n",
    "\n",
    "        if self.transform:\n",
    "            image = self.transform(image)\n",
    "\n",
    "        return image, label"
   ]
  },
  {
   "cell_type": "code",
   "execution_count": 5,
   "id": "7b6a1cc3-5d54-49c5-844d-8bb850a0a8ec",
   "metadata": {},
   "outputs": [],
   "source": [
    "# Image transformations\n",
    "transform = transforms.Compose([\n",
    "    transforms.ToPILImage(),\n",
    "    transforms.Resize((224, 224)),\n",
    "    transforms.ToTensor(),\n",
    "    transforms.Normalize(mean=[0.485, 0.456, 0.406],\n",
    "                         std=[0.229, 0.224, 0.225])\n",
    "])"
   ]
  },
  {
   "cell_type": "code",
   "execution_count": 6,
   "id": "032cb6fc-de6d-47c2-b176-031c8bc286d1",
   "metadata": {},
   "outputs": [],
   "source": [
    "# Paths\n",
    "data_dir = \"FACE MASK DETECTION/mask_images_ready\"\n",
    "train_dir = os.path.join(data_dir, \"train\")\n",
    "val_dir = os.path.join(data_dir, \"val\")\n",
    "test_dir = os.path.join(data_dir, \"test\")\n",
    "model_save_path = \"FaceMaskModel.pt\"\n"
   ]
  },
  {
   "cell_type": "code",
   "execution_count": 7,
   "id": "2201d118-9171-4db9-aa67-30d6b61e7683",
   "metadata": {},
   "outputs": [],
   "source": [
    "# Helper to load images\n",
    "def load_images_and_labels(base_dir):\n",
    "    image_paths, labels = [], []\n",
    "    for label_name in os.listdir(base_dir):\n",
    "        class_path = os.path.join(base_dir, label_name)\n",
    "        if os.path.isdir(class_path):\n",
    "            label = 1 if label_name == \"1\" else 0\n",
    "            for file in os.listdir(class_path):\n",
    "                if file.endswith(\".png\"):\n",
    "                    image_paths.append(os.path.join(class_path, file))\n",
    "                    labels.append(label)\n",
    "    return image_paths, labels\n",
    "\n",
    "train_paths, train_labels = load_images_and_labels(train_dir)\n",
    "val_paths, val_labels = load_images_and_labels(val_dir)\n",
    "test_paths, test_labels = load_images_and_labels(test_dir)"
   ]
  },
  {
   "cell_type": "code",
   "execution_count": 8,
   "id": "adee8c8e-93bd-47fd-8783-839fda9fea27",
   "metadata": {},
   "outputs": [],
   "source": [
    "# Create datasets\n",
    "train_dataset = FaceMaskDataset(train_paths, train_labels, transform=transform)\n",
    "val_dataset = FaceMaskDataset(val_paths, val_labels, transform=transform)\n",
    "test_dataset = FaceMaskDataset(test_paths, test_labels, transform=transform)\n"
   ]
  },
  {
   "cell_type": "code",
   "execution_count": 9,
   "id": "040390f5-68a8-4cb0-b55d-bc5d9320905c",
   "metadata": {},
   "outputs": [],
   "source": [
    "# Loaders\n",
    "train_loader = DataLoader(train_dataset, batch_size=16, shuffle=True)\n",
    "val_loader = DataLoader(val_dataset, batch_size=16, shuffle=False)\n",
    "test_loader = DataLoader(test_dataset, batch_size=16, shuffle=False)"
   ]
  },
  {
   "cell_type": "code",
   "execution_count": 15,
   "id": "18e106d9-98b1-42dc-9288-960f41cb678e",
   "metadata": {},
   "outputs": [
    {
     "name": "stderr",
     "output_type": "stream",
     "text": [
      "Downloading: \"https://download.pytorch.org/models/resnet18-f37072fd.pth\" to /Users/chiragdua/.cache/torch/hub/checkpoints/resnet18-f37072fd.pth\n",
      "100%|██████████████████████████████████████| 44.7M/44.7M [00:05<00:00, 8.67MB/s]\n"
     ]
    }
   ],
   "source": [
    "from torchvision.models import resnet18, ResNet18_Weights\n",
    "import torch.nn as nn\n",
    "import torch\n",
    "\n",
    "class FaceMaskModel(nn.Module):\n",
    "    def __init__(self):\n",
    "        super(FaceMaskModel, self).__init__()\n",
    "        self.model = resnet18(weights=ResNet18_Weights.DEFAULT)\n",
    "        num_ftrs = self.model.fc.in_features\n",
    "        self.model.fc = nn.Linear(num_ftrs, 2)\n",
    "\n",
    "    def forward(self, x):\n",
    "        return self.model(x)\n",
    "\n",
    "device = torch.device(\"cuda\" if torch.cuda.is_available() else \"cpu\")\n",
    "model = FaceMaskModel().to(device)\n",
    "\n",
    "\n"
   ]
  },
  {
   "cell_type": "code",
   "execution_count": 17,
   "id": "b2804e49-875a-4e99-bb96-f3ec0be5d007",
   "metadata": {},
   "outputs": [
    {
     "name": "stdout",
     "output_type": "stream",
     "text": [
      "Epoch 1/12\n",
      "Train Loss: 0.1754 | Train Accuracy: 84.72%\n",
      "-------------------------------\n",
      "Epoch 2/12\n",
      "Train Loss: 0.0002 | Train Accuracy: 100.00%\n",
      "-------------------------------\n",
      "Epoch 3/12\n",
      "Train Loss: 0.0001 | Train Accuracy: 100.00%\n",
      "-------------------------------\n",
      "Epoch 4/12\n",
      "Train Loss: 0.0003 | Train Accuracy: 100.00%\n",
      "-------------------------------\n",
      "Epoch 5/12\n",
      "Train Loss: 0.0001 | Train Accuracy: 100.00%\n",
      "-------------------------------\n",
      "Epoch 6/12\n",
      "Train Loss: 0.0025 | Train Accuracy: 100.00%\n",
      "-------------------------------\n",
      "Epoch 7/12\n",
      "Train Loss: 0.2029 | Train Accuracy: 95.83%\n",
      "-------------------------------\n",
      "Epoch 8/12\n",
      "Train Loss: 0.0503 | Train Accuracy: 98.61%\n",
      "-------------------------------\n",
      "Epoch 9/12\n",
      "Train Loss: 0.0017 | Train Accuracy: 100.00%\n",
      "-------------------------------\n",
      "Epoch 10/12\n",
      "Train Loss: 0.0372 | Train Accuracy: 98.61%\n",
      "-------------------------------\n",
      "Epoch 11/12\n",
      "Train Loss: 0.0302 | Train Accuracy: 98.61%\n",
      "-------------------------------\n",
      "Epoch 12/12\n",
      "Train Loss: 0.0001 | Train Accuracy: 100.00%\n",
      "-------------------------------\n"
     ]
    }
   ],
   "source": [
    "import torch.optim as optim\n",
    "from torch.utils.data import DataLoader\n",
    "\n",
    "# Set up your datasets (training, validation, etc.)\n",
    "# Assuming FaceMaskDataset is already defined\n",
    "\n",
    "train_loader = DataLoader(train_dataset, batch_size=16, shuffle=True)\n",
    "val_loader = DataLoader(val_dataset, batch_size=16, shuffle=False)\n",
    "\n",
    "# Loss function and optimizer\n",
    "criterion = nn.CrossEntropyLoss()\n",
    "optimizer = optim.Adam(model.parameters(), lr=0.001)\n",
    "\n",
    "# Training loop\n",
    "num_epochs = 12\n",
    "train_loss_values, train_accuracy_values = [], []\n",
    "\n",
    "for epoch in range(num_epochs):\n",
    "    model.train()\n",
    "    running_loss, correct, total = 0.0, 0, 0\n",
    "\n",
    "    for images, labels in train_loader:\n",
    "        images, labels = images.to(device), labels.to(device)\n",
    "\n",
    "        optimizer.zero_grad()\n",
    "        outputs = model(images)\n",
    "        loss = criterion(outputs, labels)\n",
    "        loss.backward()\n",
    "        optimizer.step()\n",
    "\n",
    "        _, predicted = torch.max(outputs, 1)\n",
    "        total += labels.size(0)\n",
    "        correct += (predicted == labels).sum().item()\n",
    "        running_loss += loss.item()\n",
    "\n",
    "    train_accuracy = correct / total\n",
    "    train_loss = running_loss / len(train_loader)\n",
    "\n",
    "    train_loss_values.append(train_loss)\n",
    "    train_accuracy_values.append(train_accuracy)\n",
    "\n",
    "    print(f\"Epoch {epoch + 1}/{num_epochs}\")\n",
    "    print(f\"Train Loss: {train_loss:.4f} | Train Accuracy: {train_accuracy*100:.2f}%\")\n",
    "    print(\"-------------------------------\")\n"
   ]
  },
  {
   "cell_type": "code",
   "execution_count": 18,
   "id": "68622195-4991-4c0e-adde-8900221fee44",
   "metadata": {},
   "outputs": [
    {
     "data": {
      "image/png": "[encoded data removed]",
      "text/plain": [
       "<Figure size 1200x500 with 2 Axes>"
      ]
     },
     "metadata": {},
     "output_type": "display_data"
    }
   ],
   "source": [
    "epochs = range(1, num_epochs + 1)\n",
    "plt.figure(figsize=(12, 5))\n",
    "\n",
    "plt.subplot(1, 2, 1)\n",
    "plt.plot(epochs, train_loss_values, label=\"Loss\", color=\"red\")\n",
    "plt.title(\"Training Loss\")\n",
    "plt.xlabel(\"Epoch\")\n",
    "plt.ylabel(\"Loss\")\n",
    "plt.legend()\n",
    "\n",
    "plt.subplot(1, 2, 2)\n",
    "plt.plot(epochs, train_accuracy_values, label=\"Accuracy\", color=\"blue\")\n",
    "plt.title(\"Training Accuracy\")\n",
    "plt.xlabel(\"Epoch\")\n",
    "plt.ylabel(\"Accuracy\")\n",
    "plt.legend()\n",
    "\n",
    "plt.tight_layout()\n",
    "plt.show()\n"
   ]
  },
  {
   "cell_type": "code",
   "execution_count": 19,
   "id": "987053b2-3e2e-47cf-9131-b99ecf6a7616",
   "metadata": {},
   "outputs": [
    {
     "name": "stdout",
     "output_type": "stream",
     "text": [
      "Model saved to FaceMaskModel.pt\n"
     ]
    }
   ],
   "source": [
    "torch.save(model.state_dict(), model_save_path)\n",
    "print(f\"Model saved to {model_save_path}\")"
   ]
  },
  {
   "cell_type": "code",
   "execution_count": null,
   "id": "eb269af4-98ad-467c-b7e8-b0d4cebf959b",
   "metadata": {},
   "outputs": [],
   "source": []
  },
  {
   "cell_type": "code",
   "execution_count": null,
   "id": "4a77d067-82f2-4eff-92c5-77186e43dc23",
   "metadata": {},
   "outputs": [],
   "source": []
  }
 ],
 "metadata": {
  "kernelspec": {
   "display_name": "Python (Face Mask)",
   "language": "python",
   "name": "facemaskenv"
  },
  "language_info": {
   "codemirror_mode": {
    "name": "ipython",
    "version": 3
   },
   "file_extension": ".py",
   "mimetype": "text/x-python",
   "name": "python",
   "nbconvert_exporter": "python",
   "pygments_lexer": "ipython3",
   "version": "3.12.2"
  }
 },
 "nbformat": 4,
 "nbformat_minor": 5
}
